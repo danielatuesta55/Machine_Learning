{
 "cells": [
  {
   "cell_type": "code",
   "execution_count": 1,
   "id": "54371c44-4951-4b2c-a1f0-e0920de2b3ad",
   "metadata": {},
   "outputs": [],
   "source": [
    "# Import dependencies\n",
    "import pandas as pd\n",
    "import numpy as np\n"
   ]
  },
  {
   "cell_type": "code",
   "execution_count": null,
   "id": "d01008e5-fcfa-419b-8524-b2261a32a534",
   "metadata": {},
   "outputs": [],
   "source": [
    "col_names= ['Sepal_length','Speal_width','petal_length','petal_width','type']\n",
    "data = pd.read_csv('../Resources/iris.csv',skiprows=1, header=None,names=col_names)\n",
    "data.head(10)"
   ]
  }
 ],
 "metadata": {
  "kernelspec": {
   "display_name": "Python 3",
   "language": "python",
   "name": "python3"
  },
  "language_info": {
   "codemirror_mode": {
    "name": "ipython",
    "version": 3
   },
   "file_extension": ".py",
   "mimetype": "text/x-python",
   "name": "python",
   "nbconvert_exporter": "python",
   "pygments_lexer": "ipython3",
   "version": "3.8.8"
  }
 },
 "nbformat": 4,
 "nbformat_minor": 5
}
